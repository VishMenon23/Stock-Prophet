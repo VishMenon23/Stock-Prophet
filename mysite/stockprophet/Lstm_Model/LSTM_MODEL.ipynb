{
  "nbformat": 4,
  "nbformat_minor": 0,
  "metadata": {
    "colab": {
      "provenance": [],
      "gpuType": "T4"
    },
    "kernelspec": {
      "name": "python3",
      "display_name": "Python 3"
    },
    "language_info": {
      "name": "python"
    },
    "accelerator": "GPU"
  },
  "cells": [
    {
      "cell_type": "code",
      "execution_count": null,
      "metadata": {
        "id": "k6TDfAVMxYkp"
      },
      "outputs": [],
      "source": [
        "import yfinance as yf\n",
        "import pandas as pd\n",
        "import numpy as np\n",
        "from sklearn.preprocessing import MinMaxScaler\n",
        "from sklearn.metrics import mean_squared_error\n",
        "from tensorflow.keras.models import Sequential\n",
        "from tensorflow.keras.layers import Dense, LSTM, Dropout"
      ]
    },
    {
      "cell_type": "code",
      "source": [
        "import tensorflow as tf\n",
        "print(tf.__version__)"
      ],
      "metadata": {
        "colab": {
          "base_uri": "https://localhost:8080/"
        },
        "id": "uu3YUvJyyHza",
        "outputId": "14d88cee-c4f7-4208-9f92-60d90b7df665"
      },
      "execution_count": null,
      "outputs": [
        {
          "output_type": "stream",
          "name": "stdout",
          "text": [
            "2.15.0\n"
          ]
        }
      ]
    },
    {
      "cell_type": "code",
      "source": [
        "import sklearn\n",
        "print(sklearn.__version__)"
      ],
      "metadata": {
        "colab": {
          "base_uri": "https://localhost:8080/"
        },
        "id": "Ju462lbqmMtN",
        "outputId": "e9b2da7f-a212-4458-9eb1-3708d8c1fc0c"
      },
      "execution_count": null,
      "outputs": [
        {
          "output_type": "stream",
          "name": "stdout",
          "text": [
            "1.2.2\n"
          ]
        }
      ]
    },
    {
      "cell_type": "code",
      "source": [
        "tickers = ['AAPL', 'GOOG', 'AMZN', 'NVDA', 'MSFT',\"^GSPC\", \"^IXIC\"]\n",
        "\n",
        "df = yf.download(tickers, start='2010-01-01', end='2024-01-01')"
      ],
      "metadata": {
        "colab": {
          "base_uri": "https://localhost:8080/"
        },
        "id": "ZFOpT17fyKSi",
        "outputId": "97de9e7a-f7a8-4175-e06e-6d010aeb57ee"
      },
      "execution_count": null,
      "outputs": [
        {
          "output_type": "stream",
          "name": "stderr",
          "text": [
            "[*********************100%%**********************]  7 of 7 completed\n"
          ]
        }
      ]
    },
    {
      "cell_type": "code",
      "source": [
        "df.dropna(inplace=True)\n",
        "normalize = MinMaxScaler()\n",
        "normalized_data = normalize.fit_transform(df['Close'].values.reshape(-1, 1))\n",
        "\n",
        "train_size = int(len(normalized_data) * 0.7)\n",
        "test_size = len(normalized_data) - train_size\n",
        "train_data, test_data = normalized_data[0:train_size,:], normalized_data[train_size:len(normalized_data),:]"
      ],
      "metadata": {
        "id": "zSnO2Y7KyUbz"
      },
      "execution_count": null,
      "outputs": []
    },
    {
      "cell_type": "code",
      "source": [
        "def generate_dataset(original_data, look_back=1):\n",
        "    data_X, data_Y = [], []\n",
        "    for i in range(len(original_data)-look_back-1):\n",
        "        a = original_data[i:(i+look_back), 0]\n",
        "        data_X.append(a)\n",
        "        data_Y.append(original_data[i + look_back, 0])\n",
        "    return np.array(data_X), np.array(data_Y)"
      ],
      "metadata": {
        "id": "spbh3ruUyzSQ"
      },
      "execution_count": null,
      "outputs": []
    },
    {
      "cell_type": "code",
      "source": [
        "look_back = 40\n",
        "X_train, y_train = generate_dataset(train_data, look_back)\n",
        "X_test, y_test = generate_dataset(test_data, look_back)\n",
        "\n",
        "X_train = np.reshape(X_train, (X_train.shape[0], X_train.shape[1], 1))\n",
        "X_test = np.reshape(X_test, (X_test.shape[0], X_test.shape[1], 1))\n",
        "\n",
        "model = Sequential()\n",
        "model.add(LSTM(units=100, return_sequences=True, input_shape=(X_train.shape[1], 1)))\n",
        "model.add(Dropout(0.2))\n",
        "model.add(LSTM(units=100, return_sequences=True))\n",
        "model.add(Dropout(0.2))\n",
        "model.add(LSTM(units=100))\n",
        "model.add(Dropout(0.2))\n",
        "model.add(Dense(units=1))"
      ],
      "metadata": {
        "id": "Cj4I0Rk8zJ2S"
      },
      "execution_count": null,
      "outputs": []
    },
    {
      "cell_type": "code",
      "source": [
        "model.compile(optimizer='SGD', loss='mean_squared_error')\n",
        "model.fit(X_train, y_train, epochs=80, batch_size=32)"
      ],
      "metadata": {
        "colab": {
          "base_uri": "https://localhost:8080/"
        },
        "id": "pyK9yamJ1ZQ0",
        "outputId": "881ced6d-2d3b-477b-8be9-910ce71dcdb3"
      },
      "execution_count": null,
      "outputs": [
        {
          "output_type": "stream",
          "name": "stdout",
          "text": [
            "Epoch 1/80\n",
            "538/538 [==============================] - 8s 9ms/step - loss: 5.3895e-05\n",
            "Epoch 2/80\n",
            "538/538 [==============================] - 5s 10ms/step - loss: 5.2883e-05\n",
            "Epoch 3/80\n",
            "538/538 [==============================] - 4s 8ms/step - loss: 4.9421e-05\n",
            "Epoch 4/80\n",
            "538/538 [==============================] - 4s 8ms/step - loss: 4.9192e-05\n",
            "Epoch 5/80\n",
            "538/538 [==============================] - 5s 9ms/step - loss: 4.8814e-05\n",
            "Epoch 6/80\n",
            "538/538 [==============================] - 5s 8ms/step - loss: 4.8804e-05\n",
            "Epoch 7/80\n",
            "538/538 [==============================] - 5s 9ms/step - loss: 4.7987e-05\n",
            "Epoch 8/80\n",
            "538/538 [==============================] - 5s 8ms/step - loss: 4.8278e-05\n",
            "Epoch 9/80\n",
            "538/538 [==============================] - 4s 8ms/step - loss: 4.7405e-05\n",
            "Epoch 10/80\n",
            "538/538 [==============================] - 5s 10ms/step - loss: 4.7473e-05\n",
            "Epoch 11/80\n",
            "538/538 [==============================] - 5s 9ms/step - loss: 4.8187e-05\n",
            "Epoch 12/80\n",
            "538/538 [==============================] - 5s 9ms/step - loss: 5.1352e-05\n",
            "Epoch 13/80\n",
            "538/538 [==============================] - 5s 9ms/step - loss: 4.5510e-05\n",
            "Epoch 14/80\n",
            "538/538 [==============================] - 4s 8ms/step - loss: 4.5636e-05\n",
            "Epoch 15/80\n",
            "538/538 [==============================] - 5s 10ms/step - loss: 4.8546e-05\n",
            "Epoch 16/80\n",
            "538/538 [==============================] - 5s 8ms/step - loss: 4.5978e-05\n",
            "Epoch 17/80\n",
            "538/538 [==============================] - 5s 8ms/step - loss: 4.8642e-05\n",
            "Epoch 18/80\n",
            "538/538 [==============================] - 5s 9ms/step - loss: 4.7722e-05\n",
            "Epoch 19/80\n",
            "538/538 [==============================] - 5s 8ms/step - loss: 4.6868e-05\n",
            "Epoch 20/80\n",
            "538/538 [==============================] - 5s 10ms/step - loss: 4.7456e-05\n",
            "Epoch 21/80\n",
            "538/538 [==============================] - 5s 10ms/step - loss: 4.8880e-05\n",
            "Epoch 22/80\n",
            "538/538 [==============================] - 4s 8ms/step - loss: 4.7581e-05\n",
            "Epoch 23/80\n",
            "538/538 [==============================] - 5s 10ms/step - loss: 4.6986e-05\n",
            "Epoch 24/80\n",
            "538/538 [==============================] - 4s 8ms/step - loss: 4.6460e-05\n",
            "Epoch 25/80\n",
            "538/538 [==============================] - 5s 9ms/step - loss: 4.7240e-05\n",
            "Epoch 26/80\n",
            "538/538 [==============================] - 5s 9ms/step - loss: 4.6203e-05\n",
            "Epoch 27/80\n",
            "538/538 [==============================] - 4s 8ms/step - loss: 4.7163e-05\n",
            "Epoch 28/80\n",
            "538/538 [==============================] - 5s 9ms/step - loss: 4.6739e-05\n",
            "Epoch 29/80\n",
            "538/538 [==============================] - 4s 8ms/step - loss: 4.7254e-05\n",
            "Epoch 30/80\n",
            "538/538 [==============================] - 5s 9ms/step - loss: 4.6981e-05\n",
            "Epoch 31/80\n",
            "538/538 [==============================] - 5s 9ms/step - loss: 4.6052e-05\n",
            "Epoch 32/80\n",
            "538/538 [==============================] - 4s 8ms/step - loss: 4.5936e-05\n",
            "Epoch 33/80\n",
            "538/538 [==============================] - 5s 10ms/step - loss: 4.5445e-05\n",
            "Epoch 34/80\n",
            "538/538 [==============================] - 5s 8ms/step - loss: 4.8715e-05\n",
            "Epoch 35/80\n",
            "538/538 [==============================] - 5s 8ms/step - loss: 4.5574e-05\n",
            "Epoch 36/80\n",
            "538/538 [==============================] - 5s 10ms/step - loss: 4.6871e-05\n",
            "Epoch 37/80\n",
            "538/538 [==============================] - 5s 9ms/step - loss: 4.6724e-05\n",
            "Epoch 38/80\n",
            "538/538 [==============================] - 5s 10ms/step - loss: 4.4864e-05\n",
            "Epoch 39/80\n",
            "538/538 [==============================] - 5s 9ms/step - loss: 4.6681e-05\n",
            "Epoch 40/80\n",
            "538/538 [==============================] - 4s 8ms/step - loss: 4.5192e-05\n",
            "Epoch 41/80\n",
            "538/538 [==============================] - 5s 10ms/step - loss: 4.7166e-05\n",
            "Epoch 42/80\n",
            "538/538 [==============================] - 5s 10ms/step - loss: 4.7651e-05\n",
            "Epoch 43/80\n",
            "538/538 [==============================] - 5s 10ms/step - loss: 4.7231e-05\n",
            "Epoch 44/80\n",
            "538/538 [==============================] - 5s 8ms/step - loss: 4.7524e-05\n",
            "Epoch 45/80\n",
            "538/538 [==============================] - 5s 9ms/step - loss: 4.6966e-05\n",
            "Epoch 46/80\n",
            "538/538 [==============================] - 5s 10ms/step - loss: 4.8973e-05\n",
            "Epoch 47/80\n",
            "538/538 [==============================] - 7s 12ms/step - loss: 4.7391e-05\n",
            "Epoch 48/80\n",
            "538/538 [==============================] - 5s 10ms/step - loss: 4.5860e-05\n",
            "Epoch 49/80\n",
            "538/538 [==============================] - 4s 8ms/step - loss: 4.6011e-05\n",
            "Epoch 50/80\n",
            "538/538 [==============================] - 5s 10ms/step - loss: 4.6950e-05\n",
            "Epoch 51/80\n",
            "538/538 [==============================] - 5s 9ms/step - loss: 4.7187e-05\n",
            "Epoch 52/80\n",
            "538/538 [==============================] - 5s 8ms/step - loss: 4.5983e-05\n",
            "Epoch 53/80\n",
            "538/538 [==============================] - 5s 10ms/step - loss: 4.4145e-05\n",
            "Epoch 54/80\n",
            "538/538 [==============================] - 5s 8ms/step - loss: 4.5017e-05\n",
            "Epoch 55/80\n",
            "538/538 [==============================] - 5s 9ms/step - loss: 4.5063e-05\n",
            "Epoch 56/80\n",
            "538/538 [==============================] - 5s 9ms/step - loss: 4.5900e-05\n",
            "Epoch 57/80\n",
            "538/538 [==============================] - 5s 8ms/step - loss: 4.6352e-05\n",
            "Epoch 58/80\n",
            "538/538 [==============================] - 5s 9ms/step - loss: 4.8131e-05\n",
            "Epoch 59/80\n",
            "538/538 [==============================] - 4s 8ms/step - loss: 4.6332e-05\n",
            "Epoch 60/80\n",
            "538/538 [==============================] - 5s 8ms/step - loss: 4.7102e-05\n",
            "Epoch 61/80\n",
            "538/538 [==============================] - 5s 9ms/step - loss: 4.5683e-05\n",
            "Epoch 62/80\n",
            "538/538 [==============================] - 5s 8ms/step - loss: 4.6680e-05\n",
            "Epoch 63/80\n",
            "538/538 [==============================] - 7s 12ms/step - loss: 4.4731e-05\n",
            "Epoch 64/80\n",
            "538/538 [==============================] - 4s 8ms/step - loss: 4.5803e-05\n",
            "Epoch 65/80\n",
            "538/538 [==============================] - 5s 8ms/step - loss: 4.4858e-05\n",
            "Epoch 66/80\n",
            "538/538 [==============================] - 5s 9ms/step - loss: 4.6309e-05\n",
            "Epoch 67/80\n",
            "538/538 [==============================] - 5s 8ms/step - loss: 4.6819e-05\n",
            "Epoch 68/80\n",
            "538/538 [==============================] - 5s 9ms/step - loss: 4.6748e-05\n",
            "Epoch 69/80\n",
            "538/538 [==============================] - 5s 8ms/step - loss: 4.3862e-05\n",
            "Epoch 70/80\n",
            "538/538 [==============================] - 5s 8ms/step - loss: 4.4382e-05\n",
            "Epoch 71/80\n",
            "538/538 [==============================] - 5s 10ms/step - loss: 4.6523e-05\n",
            "Epoch 72/80\n",
            "538/538 [==============================] - 5s 9ms/step - loss: 4.7718e-05\n",
            "Epoch 73/80\n",
            "538/538 [==============================] - 5s 9ms/step - loss: 4.8196e-05\n",
            "Epoch 74/80\n",
            "538/538 [==============================] - 5s 9ms/step - loss: 4.6864e-05\n",
            "Epoch 75/80\n",
            "538/538 [==============================] - 5s 8ms/step - loss: 4.5697e-05\n",
            "Epoch 76/80\n",
            "538/538 [==============================] - 5s 10ms/step - loss: 4.7091e-05\n",
            "Epoch 77/80\n",
            "538/538 [==============================] - 4s 8ms/step - loss: 4.5642e-05\n",
            "Epoch 78/80\n",
            "538/538 [==============================] - 5s 9ms/step - loss: 4.6773e-05\n",
            "Epoch 79/80\n",
            "538/538 [==============================] - 5s 9ms/step - loss: 4.7536e-05\n",
            "Epoch 80/80\n",
            "538/538 [==============================] - 5s 8ms/step - loss: 4.5478e-05\n"
          ]
        },
        {
          "output_type": "execute_result",
          "data": {
            "text/plain": [
              "<keras.src.callbacks.History at 0x7920814c9de0>"
            ]
          },
          "metadata": {},
          "execution_count": 13
        }
      ]
    },
    {
      "cell_type": "code",
      "source": [
        "import tensorflow as tf\n",
        "y_predict = model.predict(X_test)\n",
        "error_rate = np.sqrt(mean_squared_error(y_test, y_predict))\n",
        "print('Error Rate - ', error_rate)"
      ],
      "metadata": {
        "colab": {
          "base_uri": "https://localhost:8080/"
        },
        "id": "mrNdG_V42NjN",
        "outputId": "d28f3524-ce5e-4e9d-8248-da49b069b0d8"
      },
      "execution_count": null,
      "outputs": [
        {
          "output_type": "stream",
          "name": "stdout",
          "text": [
            "230/230 [==============================] - 2s 5ms/step\n",
            "Error Rate -  0.08951277083991442\n"
          ]
        }
      ]
    },
    {
      "cell_type": "code",
      "source": [
        "accuracy_eval = tf.keras.metrics.Accuracy()\n",
        "accuracy_eval.update_state(tf.math.round(y_test), tf.math.round(y_predict))\n",
        "acc = accuracy_eval.result().numpy()\n",
        "print('Accuracy:', acc)"
      ],
      "metadata": {
        "colab": {
          "base_uri": "https://localhost:8080/"
        },
        "id": "bY4pSQ0G20oe",
        "outputId": "c967559f-644d-48be-b931-55ba27977852"
      },
      "execution_count": null,
      "outputs": [
        {
          "output_type": "stream",
          "name": "stdout",
          "text": [
            "Accuracy: 0.9990471\n"
          ]
        }
      ]
    },
    {
      "cell_type": "code",
      "source": [
        "import pickle\n",
        "from joblib import Parallel, delayed\n",
        "import joblib\n",
        "joblib.dump(model, 'lstm_model.pkl')"
      ],
      "metadata": {
        "colab": {
          "base_uri": "https://localhost:8080/"
        },
        "id": "jfrToKOS3BTJ",
        "outputId": "4bba94e6-892d-47cf-8f15-0701768ba9df"
      },
      "execution_count": null,
      "outputs": [
        {
          "output_type": "execute_result",
          "data": {
            "text/plain": [
              "['lstm_model.pkl']"
            ]
          },
          "metadata": {},
          "execution_count": 11
        }
      ]
    }
  ]
}